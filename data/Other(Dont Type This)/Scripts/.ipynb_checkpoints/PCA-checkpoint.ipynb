{
 "cells": [
  {
   "cell_type": "code",
   "execution_count": null,
   "metadata": {
    "collapsed": true
   },
   "outputs": [],
   "source": [
    "import pandas as pd\n",
    "import numpy as np\n",
    "import math\n",
    "from matplotlib import pyplot as plt"
   ]
  },
  {
   "cell_type": "code",
   "execution_count": null,
   "metadata": {
    "collapsed": false
   },
   "outputs": [],
   "source": [
    "#Get directory of the table\n",
    "print \"Let's start by locating the orignial table data, the data format should be csv\"\n",
    "print \"\\nPlease provide the directory of your data\"\n",
    "direc = raw_input(\">>>>>>\")\n",
    "print \"\\nPlease provide the full name of your data\"\n",
    "name = raw_input(\">>>>>>\")\n",
    "datapath = direc + \"\\\\\" + name"
   ]
  },
  {
   "cell_type": "code",
   "execution_count": null,
   "metadata": {
    "collapsed": false
   },
   "outputs": [],
   "source": [
    "#Read and show the table\n",
    "Origin = pd.read_csv(datapath)\n",
    "Origin.head()"
   ]
  },
  {
   "cell_type": "code",
   "execution_count": null,
   "metadata": {
    "collapsed": false
   },
   "outputs": [],
   "source": [
    "#Preprocess the table, deal with NA problem\n",
    "print \"I will delete those empty rows. Do you want to replace the empty rows with 0? \"\n",
    "print \"\\nEnter yes to replace rows with 0, enter other words to delete rows\"\n",
    "rowDecision = raw_input(\">>>>>>\")\n",
    "if rowDecision == \"yes\":\n",
    "    Origin_NA = Origin.fillna(0)\n",
    "else:\n",
    "    Origin_NA = Origin.dropna(how=\"any\", inplace=False)\n",
    "#Get the objectID separately as future index to join back\n",
    "print \"Getting the first column as the index column\"\n",
    "OID = Origin_NA.iloc[:,[0]]\n",
    "OID_NA = OID.dropna(how='any', inplace=False)\n",
    "OID_NA_rein = OID_NA.reset_index()\n",
    "OID_NA_rein.drop('index', axis=1, inplace=True)"
   ]
  },
  {
   "cell_type": "code",
   "execution_count": null,
   "metadata": {
    "collapsed": false
   },
   "outputs": [],
   "source": [
    "#Get user-defined columns as PCA input\n",
    "headerList = Origin_NA.columns.values.tolist()\n",
    "headerListS = [str(x) for x in headerList]\n",
    "headerDic = {}\n",
    "headerDic.clear()\n",
    "i = 1\n",
    "for names in headerListS:\n",
    "    headerDic.update({i:names})\n",
    "    i = i + 1\n",
    "nameList = []\n",
    "del nameList[:]\n",
    "print \"Now let's decide which columns will be used in PCA, in other words,\" \n",
    "print \"which columns of data do you want to combined together and extract the essential information as well as reduce the dimensionalities\\n\"\n",
    "print headerDic\n",
    "print \"\\nplease enter all the desire index number corresponding to the column names\"\n",
    "print \"Enter one number at a time, if you entered all the columns please enter finish\"\n",
    "while True:\n",
    "    try:\n",
    "        number = raw_input(\"please enter the number here:>>>\")\n",
    "        if number == \"finish\":\n",
    "            print \"\\nfinish recording\"\n",
    "            break\n",
    "        Inumber = int(number)\n",
    "        namee = headerDic[Inumber]\n",
    "        nameList.append(namee)\n",
    "        print \"Thanks for typing, if there's no further number needed to be entered, please enter 'finish'\\n\"\n",
    "    except ValueError:\n",
    "        print \"Please only enter integers or 'finish', let's try again, from the beginning\"\n",
    "        del normalField[:]\n",
    "print \"OK, this is the columns you selected:\" \n",
    "print nameList\n",
    "print \"If you selected wrong columns, please run this script from the beginning\"\n",
    "#Standardize the data\n",
    "PCAinput = Origin_NA[nameList]\n",
    "print \"Standarizng the data\"\n",
    "from sklearn.preprocessing import StandardScaler\n",
    "X_std = StandardScaler().fit_transform(PCAinput)"
   ]
  },
  {
   "cell_type": "code",
   "execution_count": null,
   "metadata": {
    "collapsed": false
   },
   "outputs": [],
   "source": [
    "#Show the covariance matrix, eigenvectors, eigenvalues\n",
    "print \"showing the covariance matrix, eigenvectors, eigenvalues\"\n",
    "print('\\nNumPy covariance matrix: \\n%s' %np.cov(X_std.T))\n",
    "cov_mat = np.cov(X_std.T)\n",
    "eig_vals, eig_vecs = np.linalg.eig(cov_mat)\n",
    "print('\\nEigenvectors \\n%s' %eig_vecs)\n",
    "print('\\nEigenvalues \\n%s' %eig_vals)"
   ]
  },
  {
   "cell_type": "code",
   "execution_count": null,
   "metadata": {
    "collapsed": false
   },
   "outputs": [],
   "source": [
    "#Showing the precent of variance explained by each components by graph\n",
    "print \"Showing the precent of variance explained by each components by graph\"\n",
    "tot = sum(eig_vals)\n",
    "var_exp = [(i / tot)*100 for i in sorted(eig_vals, reverse=True)]\n",
    "cum_var_exp = np.cumsum(var_exp)\n",
    "%matplotlib inline\n",
    "with plt.style.context('seaborn-whitegrid'):\n",
    "    plt.figure(figsize=(6, 4))\n",
    "\n",
    "    plt.bar(range(len(nameList)), var_exp, alpha=0.5, align='center',\n",
    "            label='individual explained variance')\n",
    "    plt.step(range(len(nameList)), cum_var_exp, where='mid',\n",
    "             label='cumulative explained variance')\n",
    "    plt.ylabel('Explained variance ratio')\n",
    "    plt.xlabel('Principal components')\n",
    "    plt.legend(loc='best')\n",
    "    plt.tight_layout()"
   ]
  },
  {
   "cell_type": "code",
   "execution_count": null,
   "metadata": {
    "collapsed": false
   },
   "outputs": [],
   "source": [
    "print \"After seeing this graph, you should know how many components you want to keep\"\n",
    "print \"Please enter the number of components you want to keep, only enter the integer\"\n",
    "Ncom = raw_input(\">>>>>>\")\n",
    "IntegerNcom = int(Ncom)\n",
    "print \"Now performing the PCA\"\n",
    "from sklearn.decomposition import PCA as sklearnPCA\n",
    "sklearn_pca = sklearnPCA(n_components=IntegerNcom)\n",
    "Y_sklearn = sklearn_pca.fit_transform(X_std)\n",
    "listCom = range(IntegerNcom)\n",
    "ComName = [\"Component_\" + str(x+1) for x in listCom]\n",
    "PCAresult = pd.DataFrame(Y_sklearn, columns = ComName)\n",
    "frames = [OID_NA_rein, PCAresult]\n",
    "PCAresult2 = pd.concat(frames, axis=1)\n",
    "PCAresult2.head()"
   ]
  },
  {
   "cell_type": "code",
   "execution_count": null,
   "metadata": {
    "collapsed": false
   },
   "outputs": [],
   "source": [
    "print \"Job is done, now saving the PCA result to the directory where the original data located\"\n",
    "PCAresult2.to_csv(direc+\"\\\\\\\\\" + name[0:-4] + \"_PCAresult.csv\", index=False)\n",
    "print \"Saved it successfully\""
   ]
  },
  {
   "cell_type": "code",
   "execution_count": null,
   "metadata": {
    "collapsed": false
   },
   "outputs": [],
   "source": []
  },
  {
   "cell_type": "code",
   "execution_count": null,
   "metadata": {
    "collapsed": true
   },
   "outputs": [],
   "source": []
  }
 ],
 "metadata": {
  "kernelspec": {
   "display_name": "Python 2",
   "language": "python",
   "name": "python2"
  },
  "language_info": {
   "codemirror_mode": {
    "name": "ipython",
    "version": 2
   },
   "file_extension": ".py",
   "mimetype": "text/x-python",
   "name": "python",
   "nbconvert_exporter": "python",
   "pygments_lexer": "ipython2",
   "version": "2.7.11"
  }
 },
 "nbformat": 4,
 "nbformat_minor": 0
}
