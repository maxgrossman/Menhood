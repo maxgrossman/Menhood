{
 "cells": [
  {
   "cell_type": "code",
   "execution_count": null,
   "metadata": {
    "collapsed": true
   },
   "outputs": [],
   "source": [
    "import pandas as pd\n",
    "import arcpy\n",
    "arcpy.env.overwriteOutput = True\n",
    "import os\n",
    "import time"
   ]
  },
  {
   "cell_type": "code",
   "execution_count": null,
   "metadata": {
    "collapsed": true
   },
   "outputs": [],
   "source": [
    "TotalList = []; ReferList = []; R_ReferList = []; iterator = 0; i = 0\n",
    "def get_imme_subF(a_dir):    #Given a path, eturn a list of all immediate sub-directory's list\n",
    "    return [name for name in os.listdir(a_dir)\n",
    "            if os.path.isdir(os.path.join(a_dir, name))]\n",
    "def go_deep(level, RootPath):  #Given a root path, go deep a given level of directory, and return a list of all immediate sub-directory's list\n",
    "    for i in range(level):\n",
    "        RootPath = os.path.join(RootPath, get_imme_subF(RootPath)[0])\n",
    "    return get_imme_subF(RootPath)\n",
    "def split_check(String1, String2, check_location):\n",
    "    list1 = String1.split(\".\")\n",
    "    list2 = String2.split(\".\")\n",
    "    S1part = list1[0].split(\"_\")[check_location-1]\n",
    "    S2part = list2[0].split(\"_\")[check_location-1]\n",
    "    return S1part == S2part"
   ]
  },
  {
   "cell_type": "code",
   "execution_count": null,
   "metadata": {
    "collapsed": false
   },
   "outputs": [],
   "source": [
    "CSV_FilePath_SS = str(raw_input(\"Please provide the immediate parent file path to your ACS & DEC csv files:\" + \n",
    "\"\\n\\n\" + \"For example: G:\\Share\\GEOG6307\\Grossman, this path has two folders: ACS and DEC\"+\"\\n\\n\"\n",
    "+ \"This is the most important path required in this program, be very careful\" + \"\\n\\n>>>\"))# CSV_FilePath_Single_Slash\n",
    "print \"Changing current working directory to the path where tables located\"\n",
    "os.chdir(CSV_FilePath_SS)\n",
    "CSV_FilePath = os.getcwd()\n",
    "RootPath = CSV_FilePath\n",
    "VariableCategoryList = go_deep(2, CSV_FilePath)\n",
    "# print back file path to user\n",
    "print \"\\n\" + \"File Path:\" + \"\\n\" + CSV_FilePath"
   ]
  },
  {
   "cell_type": "code",
   "execution_count": null,
   "metadata": {
    "collapsed": false
   },
   "outputs": [],
   "source": [
    "print \"Which data category interests you?\" + \"\\n\"\n",
    "for i in range(len(VariableCategoryList)):\n",
    "    print \"Type %s for \"%(str(i+1)) + VariableCategoryList[i] + \"\\n\"\n",
    "CategoryDecision = str(raw_input(\"enter here, only numbers>>>>>>>\"))\n",
    "Category = VariableCategoryList[int(CategoryDecision)-1]"
   ]
  },
  {
   "cell_type": "code",
   "execution_count": null,
   "metadata": {
    "collapsed": false
   },
   "outputs": [],
   "source": [
    "VariableCategory = VariableCategoryList[int(CategoryDecision)-1]\n",
    "Dataset = str(raw_input(\n",
    "    \"Which data set interests you?\" + \"\\n\\n\"\n",
    "    \"Type ACS for American Community Survey\" + \"\\n\"\n",
    "    \"Type DEC for Decennial Census\" + \"\\n\\n> \"))\n",
    "CSV_FilePath = os.path.join(CSV_FilePath, Dataset)"
   ]
  },
  {
   "cell_type": "code",
   "execution_count": null,
   "metadata": {
    "collapsed": false
   },
   "outputs": [],
   "source": [
    "print \"Which %s year interests you?\"%(Dataset)\n",
    "YearList = get_imme_subF(CSV_FilePath)\n",
    "for y in YearList:\n",
    "    print \"Type %s for 20%s\"%(y, y)\n",
    "YearDecision = raw_input(\"enter here, only numbers>>>>>>>\")\n",
    "CSV_FilePath = os.path.join(CSV_FilePath, YearDecision)\n",
    "CSV_FilePath = os.path.join(CSV_FilePath, Category)# This is the path stored the requested csv\n",
    "print \"Grabing CSV from  \" + CSV_FilePath\n",
    "os.chdir(CSV_FilePath)"
   ]
  },
  {
   "cell_type": "code",
   "execution_count": null,
   "metadata": {
    "collapsed": false
   },
   "outputs": [],
   "source": [
    "Namelist = sorted(os.listdir(CSV_FilePath))\n",
    "for Index, NamePart in enumerate(Namelist):\n",
    "    if Index + 1 == len(Namelist):\n",
    "            break\n",
    "    else:\n",
    "        Meta = NamePart\n",
    "        Ann = Namelist[(Index + 1)]\n",
    "        if split_check(Meta, Ann, 4) == False:\n",
    "            print \"There is a mismatch between Meta and Ann csv, here is the Meta file name: \"+\"\\n\"+Meta\n",
    "            print \"Skipping this pair of csv\"\n",
    "            continue\n",
    "        else:\n",
    "            MetaPd = pd.read_csv(Meta)\n",
    "            AnnPd = pd.read_csv(Ann)\n",
    "            GEOid_List = MetaPd[\"GEO.id\"].tolist()[2:]\n",
    "            id_List = MetaPd[\"Id\"].tolist()[2:]\n",
    "            GEOid_id_Dict = dict(zip(GEOid_List,id_List))\n",
    "            for key, val in GEOid_id_Dict.items():\n",
    "                if \"Margin of Error\" in val:\n",
    "                    del GEOid_id_Dict[key]\n",
    "            TotalList.append([Ann, GEOid_id_Dict])"
   ]
  },
  {
   "cell_type": "code",
   "execution_count": null,
   "metadata": {
    "collapsed": false
   },
   "outputs": [],
   "source": [
    "print \"finished grabing the csv\" + \"\\n\" + \"Here is all the data avaible with explanation:\"\n",
    "for pair in TotalList:# Each pair represent a pair of csv\n",
    "    Ann_R = pair[0]# Ann_R as Ann really used\n",
    "    Identifier = Ann_R.split(\".\")[0].split(\"_\")[3]\n",
    "    G_I_Dict = pair[1]\n",
    "    for key, val in G_I_Dict.items():\n",
    "        iterator += 1\n",
    "        print str(iterator) + \": \" + Identifier + \"_\" + key + \"------\" + val + \"\\n\"\n",
    "        ReferList.append([iterator, Ann_R, key, val])\n",
    "while True:\n",
    "    ReferNum = raw_input(\"Please type in the number of interest>>\")\n",
    "    OwnName = raw_input(\"\\n\" + \"Please type in your name for this variable, no more than 10 characters\" + \"\\n\"+\n",
    "                       \"If you want to keep the original name, type 0 >>>\")\n",
    "    if len(OwnName) > 10:\n",
    "        print \"Your name is more than 10 characters, this program automatically truncated the extra characters\"\n",
    "        OwnName = OwnName[0:10]\n",
    "    SelectedComb = ReferList[int(ReferNum)-1]\n",
    "    SelectedComb.append(OwnName)\n",
    "    R_ReferList.append(SelectedComb)\n",
    "    finished = raw_input(\"***************************************\" + \"\\n\\n\" +\n",
    "        \"Would you Like to select more variables?\\nType 1 for Yes\\nType 2 for No\\n> \")\n",
    "    if finished == \"1\":\n",
    "        continue      \n",
    "    if finished == \"2\":\n",
    "        break\n",
    "#print R_ReferList"
   ]
  },
  {
   "cell_type": "code",
   "execution_count": null,
   "metadata": {
    "collapsed": false,
    "scrolled": true
   },
   "outputs": [],
   "source": [
    "Joined_Pd = pd.DataFrame()\n",
    "i = 0\n",
    "for R_list in R_ReferList:\n",
    "    Ann_RR = R_list[1]\n",
    "    Ann_ID = R_list[2]\n",
    "    OwnName_2 = R_list[4]\n",
    "    Ann_Pd = pd.read_csv(Ann_RR)\n",
    "    Ann_Pd = Ann_Pd.loc[1:, [\"GEO.id\", Ann_ID]]\n",
    "    if OwnName_2 != \"0\":\n",
    "        Ann_Pd.columns = [\"GEO.id\", OwnName_2]\n",
    "    if i == 0:\n",
    "        Joined_Pd = Ann_Pd\n",
    "        i += 1\n",
    "    else:\n",
    "        Joined_Pd = Joined_Pd.merge(Ann_Pd, on=\"GEO.id\")\n",
    "        i += 1\n",
    "Joined_Pd"
   ]
  },
  {
   "cell_type": "code",
   "execution_count": null,
   "metadata": {
    "collapsed": false
   },
   "outputs": [],
   "source": [
    "DC_Shp = RootPath + \"\\\\ShapeFiles\" + \"\\\\DC_Census.shp\"\n",
    "Output_name = raw_input(\"Please type in the name of the folder where store the joined shp and description of variables\")\n",
    "hms = time.strftime(\"%H:%M:%S\")\n",
    "dmy = time.strftime(\"%d/%m/%Y\")\n",
    "hms_list = hms.split(\":\")\n",
    "dmy_list = dmy.split(\"/\")\n",
    "Folder_Path=RootPath+\"\\\\Output\"+\"\\\\\"+Output_name+\"_\"+hms_list[0]+\"H\"+hms_list[1]+\"M\"+hms_list[2]+\"S\"+dmy_list[0]+\"D\"+dmy_list[1]+\"M\"+dmy_list[2]+\"Y\"\n",
    "os.mkdir(Folder_Path)\n",
    "D_txt = open(Folder_Path+\"\\\\Variable_Description.txt\", \"w\")\n",
    "for R_list_2 in R_ReferList:\n",
    "    Change_name = R_list_2[4]\n",
    "    D_txt.write(\"The original variable number in CSV:   \" + str(R_list_2[0])+\"\\n\")\n",
    "    D_txt.write(\"The associated CSV name:   \" + R_list_2[1]+\"\\n\")\n",
    "    D_txt.write(\"The orignial variable name:   \" + R_list_2[2]+\"\\n\")\n",
    "    if Change_name == \"0\":\n",
    "        D_txt.write(\"The user-defined variable name:   None\"+\"\\n\")\n",
    "    else:\n",
    "        D_txt.write(\"The user-defined variable name:   \" + Change_name+\"\\n\")\n",
    "    D_txt.write(\"The explanation of the variable:   \" + R_list_2[3])\n",
    "    D_txt.write(\"\\n\\n\")\n",
    "D_txt.close()"
   ]
  },
  {
   "cell_type": "code",
   "execution_count": null,
   "metadata": {
    "collapsed": false
   },
   "outputs": [],
   "source": [
    "Joined_Pd.to_csv(Folder_Path+\"\\\\Joined_variables.csv\")\n",
    "CensusLyr = arcpy.MakeFeatureLayer_management(DC_Shp, Folder_Path+\"\\\\censusLayer.lyr\")\n",
    "arcpy.TableToTable_conversion(Folder_Path+\"\\\\Joined_variables.csv\", Folder_Path, \"Joined_variables.dbf\")\n",
    "CensusLyr = arcpy.JoinField_management (CensusLyr,\"GEO_ID\", Folder_Path + \"\\\\Joined_variables.dbf\", \"GEO_id\")\n",
    "Shp_name = raw_input(\"Last request: please type in the desired shapefile name, don't include .shp, no character as:\" + \n",
    "                    \"\\\\ or / or : or * or ? or \\\" or < or > or |\" + \"\\n>>>>>>>>>>>>>>>>\")\n",
    "arcpy.CopyFeatures_management(CensusLyr, Folder_Path + \"\\\\\" + Shp_name + \".shp\")\n",
    "print \"Finished\""
   ]
  },
  {
   "cell_type": "code",
   "execution_count": null,
   "metadata": {
    "collapsed": false
   },
   "outputs": [],
   "source": []
  },
  {
   "cell_type": "code",
   "execution_count": null,
   "metadata": {
    "collapsed": false
   },
   "outputs": [],
   "source": []
  },
  {
   "cell_type": "code",
   "execution_count": null,
   "metadata": {
    "collapsed": false
   },
   "outputs": [],
   "source": []
  },
  {
   "cell_type": "code",
   "execution_count": null,
   "metadata": {
    "collapsed": true
   },
   "outputs": [],
   "source": []
  }
 ],
 "metadata": {
  "kernelspec": {
   "display_name": "Python 2",
   "language": "python",
   "name": "python2"
  },
  "language_info": {
   "codemirror_mode": {
    "name": "ipython",
    "version": 2
   },
   "file_extension": ".py",
   "mimetype": "text/x-python",
   "name": "python",
   "nbconvert_exporter": "python",
   "pygments_lexer": "ipython2",
   "version": "2.7.11"
  }
 },
 "nbformat": 4,
 "nbformat_minor": 0
}
